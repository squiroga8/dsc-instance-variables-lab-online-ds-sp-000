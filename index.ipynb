{
 "cells": [
  {
   "cell_type": "markdown",
   "metadata": {},
   "source": [
    "# Instance Variables - Lab"
   ]
  },
  {
   "cell_type": "markdown",
   "metadata": {},
   "source": [
    "## Introduction\n",
    "In this lab, you'll practice using instance variables, which you use to store information about a particular instance object. You will continue to use our `fuber` theme and create some methods that operate on our instance variables to return some valuable information about the passenger and driver instance objects."
   ]
  },
  {
   "cell_type": "markdown",
   "metadata": {},
   "source": [
    "## Objectives\n",
    "\n",
    "You will be able to:\n",
    "\n",
    "* Define instance variables\n",
    "* Describe how instance variables give objects attributes and properties"
   ]
  },
  {
   "cell_type": "markdown",
   "metadata": {},
   "source": [
    "## Instructions"
   ]
  },
  {
   "cell_type": "markdown",
   "metadata": {},
   "source": [
    "Below, define classes for both a Driver and a Passenger -- for now just define the classes and remember to include the keyword `pass` so that you'll have valid syntax for our classes."
   ]
  },
  {
   "cell_type": "code",
   "execution_count": 1,
   "metadata": {},
   "outputs": [],
   "source": [
    "# Driver class\n",
    "class Driver(object):\n",
    "    pass"
   ]
  },
  {
   "cell_type": "code",
   "execution_count": 2,
   "metadata": {},
   "outputs": [],
   "source": [
    "# Passenger class\n",
    "class Passenger(object):\n",
    "    pass"
   ]
  },
  {
   "cell_type": "markdown",
   "metadata": {},
   "source": [
    "Next, instantiate a new instance of a passenger and a new instance of a driver. Give the passenger a `rating` of `4.9` and give the driver a `miles_driven` attribute of `100,000`."
   ]
  },
  {
   "cell_type": "code",
   "execution_count": 3,
   "metadata": {},
   "outputs": [],
   "source": [
    "driver = Driver() # assign a driver instance\n",
    "driver.miles_driven = 100000\n",
    "# give the driver instance object 'miles_driven' of 100000\n",
    "passenger = Passenger() # assign the passenger instance\n",
    "passenger.rating = 4.9\n",
    "# give the passenger instance object a 'rating' of 4.9"
   ]
  },
  {
   "cell_type": "markdown",
   "metadata": {},
   "source": [
    "Your next challenge is to build a function to find a driver with a given name. The function should take two inputs: drivers and search_name. Drivers will be a list of driver objects (instances of the class you defnined above) and search_name will be a string for the driver name you wish to search from. The function should then return the first driver object from drivers whose name is an exact match to the search name. If there is no driver that matches the name searched for, then the function should return `None` and print a string stating \"Sorry we couldn't find a driver with the name, ____! :\\(\" For example, if there were no results for the search name \"Jack\" your function should return None and print:\n",
    "\n",
    "```python\n",
    "\"Sorry we couldn't find a driver with the name, Jack! :(\"\n",
    "```"
   ]
  },
  {
   "cell_type": "code",
   "execution_count": 28,
   "metadata": {},
   "outputs": [],
   "source": [
    "def find_driver_by_name(drivers, name):\n",
    "    # write your code here\n",
    "    for driver in drivers:\n",
    "        if driver.name == name:\n",
    "            return driver\n",
    "    print(f\"Sorry we couldn't find a driver with the name, {name}.\")\n",
    "    return None    "
   ]
  },
  {
   "cell_type": "code",
   "execution_count": 29,
   "metadata": {},
   "outputs": [],
   "source": [
    "alex_driver = Driver()\n",
    "alex_driver.name = \"alex\"\n",
    "alex_driver.rating = 9.0\n",
    "michelle_driver = Driver()\n",
    "michelle_driver.name = \"michelle\"\n",
    "michelle_driver.rating = 8.0\n",
    "jake_driver = Driver()\n",
    "jake_driver.name = \"jake\"\n",
    "jake_driver.rating = 9.7\n",
    "ashleigh_driver = Driver()\n",
    "ashleigh_driver.name = \"ashleigh\"\n",
    "ashleigh_driver.rating = 8.75\n",
    "list_of_drivers = [alex_driver, michelle_driver, jake_driver, ashleigh_driver]"
   ]
  },
  {
   "cell_type": "markdown",
   "metadata": {},
   "source": [
    "To test your function, here's some arbitrary definitions to create instances of your Driver class. Run the cells below. "
   ]
  },
  {
   "cell_type": "code",
   "execution_count": 30,
   "metadata": {},
   "outputs": [
    {
     "data": {
      "text/plain": [
       "<__main__.Driver at 0x1069a70f0>"
      ]
     },
     "execution_count": 30,
     "metadata": {},
     "output_type": "execute_result"
    }
   ],
   "source": [
    "output = find_driver_by_name(list_of_drivers, \"jake\")\n",
    "output"
   ]
  },
  {
   "cell_type": "code",
   "execution_count": 37,
   "metadata": {},
   "outputs": [
    {
     "data": {
      "text/plain": [
       "<__main__.Driver at 0x1069a72e8>"
      ]
     },
     "execution_count": 37,
     "metadata": {},
     "output_type": "execute_result"
    }
   ],
   "source": [
    "output = find_driver_by_name(list_of_drivers, \"michelle\")\n",
    "output"
   ]
  },
  {
   "cell_type": "code",
   "execution_count": 32,
   "metadata": {},
   "outputs": [
    {
     "name": "stdout",
     "output_type": "stream",
     "text": [
      "Sorry we couldn't find a driver with the name, allison.\n"
     ]
    }
   ],
   "source": [
    "output = find_driver_by_name(list_of_drivers, \"allison\")\n",
    "output"
   ]
  },
  {
   "cell_type": "markdown",
   "metadata": {},
   "source": [
    "If you've correctly coded the find driver by name function, then the first two calls should have returned Driver objects, while the third should have printed the appology statement and returned `None`. (You can further inspect the final output to verify this using the type() method which should reveal that the output is indeed a `Nonetype`; a plain call to output as written above return nonething.\n",
    "\n",
    "\n",
    "While perhaps moderately useful, the function as written is rather brittle. Misspelling a driver's name will lead to no results. As such, write a more general method called `name_starts_with()` that will return a list of instance objects that start with a given substring. For example, you could pass the function a substring 'a' to return all drivers whose name begins with a."
   ]
  },
  {
   "cell_type": "code",
   "execution_count": 47,
   "metadata": {},
   "outputs": [],
   "source": [
    "# write your method here that returns the list of \n",
    "# drivers whose name starts which the given substring\n",
    "def name_starts_with(drivers, substring):\n",
    "    substring = []\n",
    "    for driver in drivers:\n",
    "        if substring in driver.name:\n",
    "            starts_with_a.append(driver)\n",
    "        \n",
    "    return starts_with_a"
   ]
  },
  {
   "cell_type": "markdown",
   "metadata": {},
   "source": [
    "Finally, define a method that returns the driver with the highest rating."
   ]
  },
  {
   "cell_type": "code",
   "execution_count": 38,
   "metadata": {},
   "outputs": [],
   "source": [
    "def highest_rated_driver(drivers):\n",
    "    highest_rating = drivers[0].rating\n",
    "    best_driver = drivers[0]\n",
    "    \n",
    "    for driver in drivers:\n",
    "        best_driver if driver.rating > highest_rating else None\n",
    "    \n",
    "    return best_driver"
   ]
  },
  {
   "cell_type": "markdown",
   "metadata": {},
   "source": [
    "## Bonus"
   ]
  },
  {
   "cell_type": "markdown",
   "metadata": {},
   "source": [
    "Define a `NewDriver` class with an instance method called, `passenger_names`. Then, instantiate a new instance of the NewDriver class called `best_driver` that has the attributes `name`, `car_make`, `car_model`, `age`, and `passengers`. The `passengers` attribute will point to the list of passenger instances, which is provided below as `list_of_passengers`:"
   ]
  },
  {
   "cell_type": "code",
   "execution_count": 43,
   "metadata": {},
   "outputs": [],
   "source": [
    "# Your code here!\n",
    "class NewDriver:\n",
    "    def passenger_names(self):\n",
    "        names = []\n",
    "        for passenger in self.passengers:\n",
    "            names.append(passenger.name)\n",
    "        return names\n",
    "        "
   ]
  },
  {
   "cell_type": "code",
   "execution_count": 44,
   "metadata": {},
   "outputs": [],
   "source": [
    "best_driver = NewDriver()\n",
    "best_driver.name = None\n",
    "best_driver.car_make = None\n",
    "best_driver.car_model = None\n",
    "best_driver.passenfers = []"
   ]
  },
  {
   "cell_type": "code",
   "execution_count": 45,
   "metadata": {},
   "outputs": [],
   "source": [
    "alex_passenger = Passenger()\n",
    "alex_passenger.name = \"alex\"\n",
    "michelle_passenger = Passenger()\n",
    "michelle_passenger.name = \"michelle\"\n",
    "jake_passenger = Passenger()\n",
    "jake_passenger.name = \"jake\"\n",
    "ashleigh_passenger = Passenger()\n",
    "ashleigh_passenger.name = \"ashleigh\"\n",
    "list_of_passengers =  [alex_passenger, michelle_passenger, jake_passenger, ashleigh_passenger]"
   ]
  },
  {
   "cell_type": "code",
   "execution_count": 46,
   "metadata": {},
   "outputs": [],
   "source": [
    "best_driver = NewDriver() # instantiate a NewDriver instance object\n",
    "# add the name attribute and assign it 'Garol'\n",
    "best_driver.name = 'Garol'\n",
    "# add the car_make attribute and assign it 'toyota'\n",
    "best_driver.car_make = 'toyota'\n",
    "# add the car_model attribute and assign it 'camry'\n",
    "best_driver.car_model = 'camry'\n",
    "# add the age attribute and assign it '30'\n",
    "best_driver.age = 30\n",
    "# add the passengers attribute and assign it to the list_of_passengers\n",
    "best_driver.passengers = list_of_passengers"
   ]
  },
  {
   "cell_type": "markdown",
   "metadata": {},
   "source": [
    "Alright, great! Now you have some attributes on the driver that you can work with. Create an instance method in the Driver class called `passenger_names` which returns a list of all the passengers' names/\n",
    "Your output should look like `['alex', 'michelle', 'jake', 'ashleigh']`."
   ]
  },
  {
   "cell_type": "code",
   "execution_count": 47,
   "metadata": {},
   "outputs": [
    {
     "name": "stdout",
     "output_type": "stream",
     "text": [
      "['alex', 'michelle', 'jake', 'ashleigh']\n"
     ]
    }
   ],
   "source": [
    "names_of_passengers = best_driver.passenger_names() # assign the return of best_driver.passenger_names()\n",
    "print(names_of_passengers)"
   ]
  },
  {
   "cell_type": "markdown",
   "metadata": {},
   "source": [
    "If you would like to see a more formatted list, try calling the method below on the best_driver instance:"
   ]
  },
  {
   "cell_type": "code",
   "execution_count": 48,
   "metadata": {},
   "outputs": [
    {
     "name": "stdout",
     "output_type": "stream",
     "text": [
      "1. alex\n",
      "2. michelle\n",
      "3. jake\n",
      "4. ashleigh\n"
     ]
    }
   ],
   "source": [
    "def display_names():\n",
    "    i = 1\n",
    "    for name in best_driver.passenger_names():\n",
    "        print(\"{}. {}\".format(i, name))\n",
    "        i += 1\n",
    "\n",
    "# call display_names to see a formatted list of names\n",
    "display_names()"
   ]
  },
  {
   "cell_type": "markdown",
   "metadata": {},
   "source": [
    "Neat -- great work! "
   ]
  },
  {
   "cell_type": "markdown",
   "metadata": {},
   "source": [
    "## Summary"
   ]
  },
  {
   "cell_type": "markdown",
   "metadata": {},
   "source": [
    "In this lab, you practiced creating instance variables that add information to our instance objects. You then used these instance methods to return information about the instances themselves."
   ]
  }
 ],
 "metadata": {
  "kernelspec": {
   "display_name": "learn-env",
   "language": "python",
   "name": "learn-env"
  },
  "language_info": {
   "codemirror_mode": {
    "name": "ipython",
    "version": 3
   },
   "file_extension": ".py",
   "mimetype": "text/x-python",
   "name": "python",
   "nbconvert_exporter": "python",
   "pygments_lexer": "ipython3",
   "version": "3.6.6"
  },
  "toc": {
   "base_numbering": 1,
   "nav_menu": {},
   "number_sections": true,
   "sideBar": true,
   "skip_h1_title": false,
   "title_cell": "Table of Contents",
   "title_sidebar": "Contents",
   "toc_cell": false,
   "toc_position": {},
   "toc_section_display": true,
   "toc_window_display": false
  },
  "varInspector": {
   "cols": {
    "lenName": 16,
    "lenType": 16,
    "lenVar": 40
   },
   "kernels_config": {
    "python": {
     "delete_cmd_postfix": "",
     "delete_cmd_prefix": "del ",
     "library": "var_list.py",
     "varRefreshCmd": "print(var_dic_list())"
    },
    "r": {
     "delete_cmd_postfix": ") ",
     "delete_cmd_prefix": "rm(",
     "library": "var_list.r",
     "varRefreshCmd": "cat(var_dic_list()) "
    }
   },
   "types_to_exclude": [
    "module",
    "function",
    "builtin_function_or_method",
    "instance",
    "_Feature"
   ],
   "window_display": true
  }
 },
 "nbformat": 4,
 "nbformat_minor": 2
}
